{
 "cells": [
  {
   "cell_type": "code",
   "execution_count": null,
   "id": "f6c03c73",
   "metadata": {},
   "outputs": [],
   "source": [
    "Ques:-1. Write a function that takes a positive integer num and calculates how many dots exist in a pentagonal shape around the center dot on the Nth iteration.\n",
    "\n",
    "In the image below you can see the first iteration is only a single dot. On the second, there are 6 dots. On the third, there are 16 dots, and on the fourth there are 31 dots.\n",
    "\n",
    "Return the number of dots that exist in the whole pentagon on the Nth iteration.\n",
    "\n",
    "Examples\n",
    "\n",
    "pentagonal(1) ➞ 1\n",
    "\n",
    "pentagonal(2) ➞ 6\n",
    "\n",
    "pentagonal(3) ➞ 16\n",
    "\n",
    "pentagonal(8) ➞ 141\n"
   ]
  },
  {
   "cell_type": "code",
   "execution_count": 1,
   "id": "9a186d8a",
   "metadata": {},
   "outputs": [
    {
     "name": "stdout",
     "output_type": "stream",
     "text": [
      "pentagonal(1) ➞ 1\n",
      "pentagonal(2) ➞ 6\n",
      "pentagonal(3) ➞ 16\n",
      "pentagonal(8) ➞ 141\n"
     ]
    }
   ],
   "source": [
    "Ans:-1\n",
    "def pentagonal(in_num):\n",
    "    out = 1\n",
    "    if in_num >=1:\n",
    "        for ele in range(in_num):\n",
    "            out = out + (5*ele)\n",
    "        print(f'pentagonal({in_num}) ➞ {out}')\n",
    "        \n",
    "    else:\n",
    "        print(\"Enter a positive number as input\")\n",
    "        \n",
    "pentagonal(1)\n",
    "\n",
    "pentagonal(2)\n",
    "\n",
    "pentagonal(3)\n",
    "\n",
    "pentagonal(8)"
   ]
  },
  {
   "cell_type": "code",
   "execution_count": null,
   "id": "ccf4e2f2",
   "metadata": {},
   "outputs": [],
   "source": [
    "Ques:-2.  Make a function that encrypts a given input with these steps:\n",
    "\n",
    "Input: \"apple\"\n",
    "\n",
    "Step 1: Reverse the input: \"elppa\"\n",
    "\n",
    "Step 2: Replace all vowels using the following chart:\n",
    "\n",
    "a => 0\n",
    "e => 1\n",
    "i => 2\n",
    "o => 2\n",
    "u => 3\n",
    "\n",
    "# \"1lpp0\"\n",
    "\n",
    "Step 3: Add \"aca\" to the end of the word: \"1lpp0aca\"\n",
    "\n",
    "Output: \"1lpp0aca\"\n",
    "\n",
    "Examples\n",
    "\n",
    "encrypt(\"banana\") ➞ \"0n0n0baca\"\n",
    "\n",
    "encrypt(\"karaca\") ➞ \"0c0r0kaca\"\n",
    "\n",
    "encrypt(\"burak\") ➞ \"k0r3baca\"\n",
    "\n",
    "encrypt(\"alpaca\") ➞ \"0c0pl0aca\"\n"
   ]
  },
  {
   "cell_type": "code",
   "execution_count": 3,
   "id": "935dafa8",
   "metadata": {},
   "outputs": [
    {
     "name": "stdout",
     "output_type": "stream",
     "text": [
      "encrypt(banana) ➞ 0n0n0baca\n",
      "encrypt(karaca) ➞ 0c0r0kaca\n",
      "encrypt(burak) ➞ k0r3baca\n",
      "encrypt(alpaca) ➞ 0c0pl0aca\n"
     ]
    }
   ],
   "source": [
    "Ans:-2\n",
    "def encrypt(in_string):\n",
    "    vowels = {'a':'0','e':'1','i':'2','o':'2','u':'3'}\n",
    "    out_str = ''\n",
    "    for i in in_string[::-1]:\n",
    "        if i in vowels.keys():\n",
    "            out_str += vowels[i]\n",
    "        else:\n",
    "            out_str +=i\n",
    "    out_str +=\"aca\"\n",
    "    print(f'encrypt({in_string}) ➞ {out_str}')\n",
    "  \n",
    "\n",
    "encrypt(\"banana\")\n",
    "\n",
    "encrypt(\"karaca\")\n",
    "\n",
    "encrypt(\"burak\")\n",
    "\n",
    "encrypt(\"alpaca\")\n",
    "    "
   ]
  },
  {
   "cell_type": "code",
   "execution_count": 4,
   "id": "540cbf2e",
   "metadata": {},
   "outputs": [
    {
     "name": "stdout",
     "output_type": "stream",
     "text": [
      "kehsihbA\n"
     ]
    }
   ],
   "source": [
    "# s = 'Abhishek'\n",
    "# print(s[::-1])"
   ]
  },
  {
   "cell_type": "code",
   "execution_count": null,
   "id": "b8440c50",
   "metadata": {},
   "outputs": [],
   "source": [
    "Ques:-3. Given the month and year as numbers, return whether that month contains a Friday 13th.(i.e You can check Python's datetime module)\n",
    "\n",
    "Examples\n",
    "\n",
    "has_friday_13(3, 2020) ➞ True\n",
    "\n",
    "has_friday_13(10, 2017) ➞ True\n",
    "\n",
    "has_friday_13(1, 1985) ➞ False\n"
   ]
  },
  {
   "cell_type": "code",
   "execution_count": 5,
   "id": "90b9bce7",
   "metadata": {},
   "outputs": [
    {
     "name": "stdout",
     "output_type": "stream",
     "text": [
      "has_friday_13(3, 2020)➞ True\n",
      "has_friday_13(10, 2017)➞ True\n",
      "has_friday_13(1, 1985)➞ False\n"
     ]
    }
   ],
   "source": [
    "#Ans:-3\n",
    "\n",
    "import datetime\n",
    "def has_friday_13(month,year):\n",
    "    out = False\n",
    "    if datetime.datetime(year,month,13).strftime('%A') == 'Friday':\n",
    "        out = True\n",
    "    print(f'has_friday_13{month,year}➞ {out}')\n",
    "    \n",
    "\n",
    "has_friday_13(3, 2020)\n",
    "\n",
    "has_friday_13(10, 2017)\n",
    "\n",
    "has_friday_13(1, 1985)"
   ]
  },
  {
   "cell_type": "markdown",
   "id": "ac5f9fa9",
   "metadata": {},
   "source": [
    "Ques:-4. Write a regular expression that will help us count how many bad cookies are produced every day. You must use RegEx negative lookbehind.\n",
    "\n",
    "Example\n",
    "\n",
    "lst = [\"bad cookie\", \"good cookie\", \"bad cookie\", \"good cookie\", \"good cookie\"]\n",
    "pattern = \"yourregularexpressionhere\"\n",
    "\n",
    "len(re.findall(pattern, \", \".join(lst))) ➞ 2\n"
   ]
  },
  {
   "cell_type": "code",
   "execution_count": 10,
   "id": "17702b4f",
   "metadata": {},
   "outputs": [
    {
     "name": "stdout",
     "output_type": "stream",
     "text": [
      "No of Bad cookies produced per day ➞ 2\n"
     ]
    }
   ],
   "source": [
    "#Ans:-4\n",
    "import re\n",
    "\n",
    "lst = [\"bad cookie\", \"good cookie\", \"bad cookie\", \"good cookie\", \"good cookie\"]\n",
    "pattern = r'(?<!good)\\scookie'\n",
    "data = re.findall(pattern, ''.join(lst))\n",
    "print(f'No of Bad cookies produced per day ➞ {len(data)}')"
   ]
  },
  {
   "cell_type": "markdown",
   "id": "438c29a8",
   "metadata": {},
   "source": [
    "Ques:-5. Given a list of words in the singular form, return a set of those words in the plural form if they appear more than once in the list.\n",
    "\n",
    "Examples\n",
    "\n",
    "pluralize([\"cow\", \"pig\", \"cow\", \"cow\"]) ➞ { \"cows\", \"pig\" }\n",
    "\n",
    "pluralize([\"table\", \"table\", \"table\"]) ➞ { \"tables\" }\n",
    "\n",
    "pluralize([\"chair\", \"pencil\", \"arm\"]) ➞ { \"chair\", \"pencil\", \"arm\" }\n"
   ]
  },
  {
   "cell_type": "code",
   "execution_count": 13,
   "id": "a21fa626",
   "metadata": {},
   "outputs": [
    {
     "name": "stdout",
     "output_type": "stream",
     "text": [
      "pluralize['cow', 'pig', 'cow', 'cow']) ➞ {'pig', 'cows'}\n",
      "pluralize['table', 'table', 'table']) ➞ {'tables'}\n",
      "pluralize['chair', 'pencil', 'arm']) ➞ {'chair', 'pencil', 'arm'}\n"
     ]
    }
   ],
   "source": [
    "#Ans:-5\n",
    "def pluralize(in_lst):\n",
    "    out = set()\n",
    "    for i in set(in_lst):\n",
    "        if in_lst.count(i) > 1:\n",
    "            out.add(i + \"s\")\n",
    "        else:\n",
    "            out.add(i)\n",
    "    print(f'pluralize{in_lst}) ➞ {out}')\n",
    "    \n",
    "\n",
    "pluralize([\"cow\", \"pig\", \"cow\", \"cow\"])\n",
    "\n",
    "pluralize([\"table\", \"table\", \"table\"])\n",
    "\n",
    "pluralize([\"chair\", \"pencil\", \"arm\"])"
   ]
  }
 ],
 "metadata": {
  "kernelspec": {
   "display_name": "Python 3 (ipykernel)",
   "language": "python",
   "name": "python3"
  },
  "language_info": {
   "codemirror_mode": {
    "name": "ipython",
    "version": 3
   },
   "file_extension": ".py",
   "mimetype": "text/x-python",
   "name": "python",
   "nbconvert_exporter": "python",
   "pygments_lexer": "ipython3",
   "version": "3.9.7"
  }
 },
 "nbformat": 4,
 "nbformat_minor": 5
}
