{
 "cells": [
  {
   "cell_type": "markdown",
   "id": "c0e709d2",
   "metadata": {},
   "source": [
    "Ques:-1. In mathematics, the Fibonacci numbers, commonly denoted Fn, form a sequence, called the Fibonacci sequence, such that each number is the sum of the two preceding ones, starting from 0 and 1:\n",
    "\n",
    "\n",
    "\n",
    "\n",
    "\n",
    "\n",
    "\n",
    "\n",
    "\n",
    "\n",
    "The beginning of the sequence is this:\n",
    "\n",
    "0, 1, 1, 2, 3, 5, 8, 13, 21, 34, 55, 89, 144, ...\n",
    "\n",
    "The function fastFib(num) returns the fibonacci number Fn, of the given num as an argument.\n",
    "\n",
    "Examples\n",
    "\n",
    "fib_fast(5) ➞ 5\n",
    "\n",
    "fib_fast(10) ➞ 55\n",
    "\n",
    "fib_fast(20) ➞ 6765\n",
    "\n",
    "fib_fast(50) ➞ 12586269025\n",
    "\n",
    "\n"
   ]
  },
  {
   "cell_type": "code",
   "execution_count": 5,
   "id": "1073c618",
   "metadata": {},
   "outputs": [
    {
     "name": "stdout",
     "output_type": "stream",
     "text": [
      "5\n",
      "55\n",
      "6765\n"
     ]
    }
   ],
   "source": [
    "#Ans:-1\n",
    "def fib_fast(n):\n",
    "    if n == 0:\n",
    "        return 0\n",
    "    if n == 1 or n == 2:\n",
    "        return 1\n",
    "    if n > 1:\n",
    "        return fib_fast(n-1) + fib_fast(n-2)\n",
    "    \n",
    "print(fib_fast(5))\n",
    "print(fib_fast(10))\n",
    "print(fib_fast(20))"
   ]
  },
  {
   "cell_type": "markdown",
   "id": "07d243b4",
   "metadata": {},
   "source": [
    "Ques:-2. Create a function that takes a strings characters as ASCII and returns each characters hexadecimal value as a string.\n",
    "\n",
    "Examples\n",
    "\n",
    "convert_to_hex(\"hello world\") ➞ \"68 65 6c 6c 6f 20 77 6f 72 6c 64\"\n",
    "\n",
    "convert_to_hex(\"Big Boi\") ➞ \"42 69 67 20 42 6f 69\"\n",
    "\n",
    "convert_to_hex(\"Marty Poppinson\") ➞ \"4d 61 72 74 79 20 50 6f 70 70 69 6e 73 6f 6e\"\n"
   ]
  },
  {
   "cell_type": "code",
   "execution_count": 1,
   "id": "e3bd09f1",
   "metadata": {},
   "outputs": [
    {
     "name": "stdout",
     "output_type": "stream",
     "text": [
      "68 65 6c 6c 6f 20 77 6f 72 6c 64\n",
      "42 69 67 20 42 6f 69\n",
      "4d 61 72 74 79 20 50 6f 70 70 69 6e 73 6f 6e\n"
     ]
    }
   ],
   "source": [
    "#Ans:-2\n",
    "\n",
    "def convert_to_hex(s):\n",
    "    s = s.encode('utf-8')\n",
    "    return s.hex(' ')\n",
    "\n",
    "print(convert_to_hex(\"hello world\") )\n",
    "print(convert_to_hex(\"Big Boi\"))\n",
    "print(convert_to_hex(\"Marty Poppinson\") )\n",
    "        "
   ]
  },
  {
   "cell_type": "markdown",
   "id": "f87e4d68",
   "metadata": {},
   "source": [
    "Ques:-3. Someone has attempted to censor my strings by replacing every vowel with a *, l*k* th*s. Luckily, I've been able to find the vowels that were removed.\n",
    "\n",
    "Given a censored string and a string of the censored vowels, return the original uncensored string.\n",
    "\n",
    "Example\n",
    "\n",
    "uncensor(\"Wh*r* d*d my v*w*ls g*?\", \"eeioeo\") ➞ \"Where did my vowels go?\"\n",
    "\n",
    "uncensor(\"abcd\", \"\") ➞ \"abcd\"\n",
    "\n",
    "uncensor(\"*PP*RC*S*\", \"UEAE\") ➞ \"UPPERCASE\"\n"
   ]
  },
  {
   "cell_type": "code",
   "execution_count": 1,
   "id": "89f4f009",
   "metadata": {},
   "outputs": [],
   "source": [
    "#Ans:-3\n",
    "def uncensor(str,vow):\n",
    "    new = ''\n",
    "    counter = 0\n",
    "    for i in range(len(str)):\n",
    "        if str[i] == '*':\n",
    "            new += vow[counter]\n",
    "            counter +=1\n",
    "            \n",
    "        else:\n",
    "            new += str[i]\n",
    "    return new"
   ]
  },
  {
   "cell_type": "code",
   "execution_count": 2,
   "id": "830e4d9b",
   "metadata": {},
   "outputs": [
    {
     "name": "stdout",
     "output_type": "stream",
     "text": [
      "Where did my vowels go?\n",
      "abcd\n",
      "UPPERCASE\n"
     ]
    }
   ],
   "source": [
    "print(uncensor(\"Wh*r* d*d my v*w*ls g*?\", \"eeioeo\"))\n",
    "\n",
    "print(uncensor(\"abcd\", \"\"))\n",
    "\n",
    "print(uncensor(\"*PP*RC*S*\", \"UEAE\"))"
   ]
  },
  {
   "cell_type": "markdown",
   "id": "6dc90869",
   "metadata": {},
   "source": [
    "Ques:-4. Write a function that takes an IP address and returns the domain name using PTR DNS records.\n",
    "\n",
    "Example\n",
    "\n",
    "get_domain(\"8.8.8.8\") ➞ \"dns.google\"\n",
    "\n",
    "get_domain(\"8.8.4.4\") ➞ \"dns.google\"\n",
    "\n"
   ]
  },
  {
   "cell_type": "code",
   "execution_count": 5,
   "id": "725f18d1",
   "metadata": {},
   "outputs": [
    {
     "name": "stdout",
     "output_type": "stream",
     "text": [
      "dns.google\n",
      "dns.google\n",
      "ineuron.interactivedns.com\n"
     ]
    }
   ],
   "source": [
    "#Ans:-4\n",
    "\n",
    "import socket\n",
    "\n",
    "def get_domain(ip_address):\n",
    "    return socket.gethostbyaddr(ip_address)[0]\n",
    "\n",
    "print(get_domain(\"8.8.8.8\"))\n",
    "print(get_domain(\"8.8.4.4\"))\n",
    "print(get_domain(\"172.105.51.234\"))"
   ]
  },
  {
   "cell_type": "markdown",
   "id": "a4a398d3",
   "metadata": {},
   "source": [
    "Ques:-5. Create a function that takes an integer n and returns the factorial of factorials. See below examples for a better understanding:\n",
    "\n",
    "Examples\n",
    "\n",
    "fact_of_fact(4) ➞ 288\n",
    "4! * 3! * 2! * 1! = 288\n",
    "\n",
    "fact_of_fact(5) ➞ 34560\n",
    "\n",
    "fact_of_fact(6) ➞ 24883200\n"
   ]
  },
  {
   "cell_type": "code",
   "execution_count": 6,
   "id": "0ce8280b",
   "metadata": {},
   "outputs": [
    {
     "name": "stdout",
     "output_type": "stream",
     "text": [
      "288\n",
      "34560\n",
      "24883200\n"
     ]
    }
   ],
   "source": [
    "#Ans:-5\n",
    "\n",
    "def fact(n):\n",
    "    if n == 0 or n == 1:\n",
    "        return 1\n",
    "    else:\n",
    "        return n*fact(n-1)\n",
    "    \n",
    "def fact_of_fact(n):\n",
    "    result = 1\n",
    "    while n > 1:\n",
    "        result *= fact(n)\n",
    "        n -= 1\n",
    "    return result\n",
    "\n",
    "print(fact_of_fact(4))\n",
    "print(fact_of_fact(5))\n",
    "print(fact_of_fact(6))"
   ]
  },
  {
   "cell_type": "code",
   "execution_count": null,
   "id": "17ccdc34",
   "metadata": {},
   "outputs": [],
   "source": []
  },
  {
   "cell_type": "code",
   "execution_count": null,
   "id": "98d28ff8",
   "metadata": {},
   "outputs": [],
   "source": []
  },
  {
   "cell_type": "code",
   "execution_count": null,
   "id": "b44d249c",
   "metadata": {},
   "outputs": [],
   "source": []
  }
 ],
 "metadata": {
  "kernelspec": {
   "display_name": "Python 3 (ipykernel)",
   "language": "python",
   "name": "python3"
  },
  "language_info": {
   "codemirror_mode": {
    "name": "ipython",
    "version": 3
   },
   "file_extension": ".py",
   "mimetype": "text/x-python",
   "name": "python",
   "nbconvert_exporter": "python",
   "pygments_lexer": "ipython3",
   "version": "3.9.7"
  }
 },
 "nbformat": 4,
 "nbformat_minor": 5
}
